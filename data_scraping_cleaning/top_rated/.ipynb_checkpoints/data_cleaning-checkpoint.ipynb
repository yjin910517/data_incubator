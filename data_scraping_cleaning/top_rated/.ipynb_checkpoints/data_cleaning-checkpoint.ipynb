{
 "cells": [
  {
   "cell_type": "code",
   "execution_count": 1,
   "metadata": {},
   "outputs": [
    {
     "data": {
      "text/plain": [
       "'English_United States.1252'"
      ]
     },
     "execution_count": 1,
     "metadata": {},
     "output_type": "execute_result"
    }
   ],
   "source": [
    "import pandas as pd\n",
    "import numpy as np\n",
    "import os\n",
    "import locale\n",
    "locale.setlocale( locale.LC_ALL, '' ) "
   ]
  },
  {
   "cell_type": "markdown",
   "metadata": {},
   "source": [
    "### 1. Read raw data"
   ]
  },
  {
   "cell_type": "code",
   "execution_count": 2,
   "metadata": {
    "collapsed": true
   },
   "outputs": [],
   "source": [
    "folder = \"C:\\\\Users\\\\yjin9\\\\Documents\\\\python-scripts\\\\data_incubator\\\\data_scraping_cleaning\\\\\" \n",
    "\n",
    "styles=pd.read_csv(os.path.join(folder,\"styles_summary.csv\"), encoding=\"utf-8\")\n",
    "ids=styles[\"id\"]\n",
    "\n",
    "beers=pd.read_csv(os.path.join(folder,\"top_rated\\\\\",\"beer_summary.csv\"),encoding=\"utf-8\")\n",
    "beers[\"beer_ids\"]=beers[\"beer_ids\"].apply(lambda x: str(x))\n",
    "selected_beers=beers[\"beer_ids\"].tolist()\n",
    "\n",
    "companys=pd.read_csv(os.path.join(folder,\"company.csv\"), encoding=\"utf-8\")"
   ]
  },
  {
   "cell_type": "code",
   "execution_count": 4,
   "metadata": {
    "collapsed": true
   },
   "outputs": [],
   "source": [
    "beer_df_comb=pd.DataFrame({\"beer_ids\":[],\"abvs\":[],\"beer_names\":[],\"company_ids\":[],\"ratings\":[],\"scores\":[],\"style_ids\":[]})\n",
    "\n",
    "for style_id in range(len(ids)):\n",
    "    style_name = \"style_\"+str(ids[style_id])+\".csv\"\n",
    "    df=pd.read_csv(os.path.join(folder,style_name), encoding=\"utf-8\")\n",
    "    df=df[df.beer_ids.isin(selected_beers)][[\"beer_ids\",\"abvs\",\"beer_names\",\"company_ids\",\"ratings\",\"scores\"]]\n",
    "    df[\"style_ids\"]=ids[style_id]\n",
    "    beer_df_comb=beer_df_comb.append(df)"
   ]
  },
  {
   "cell_type": "markdown",
   "metadata": {},
   "source": [
    "### 2. Combine selected beer"
   ]
  },
  {
   "cell_type": "code",
   "execution_count": 5,
   "metadata": {
    "collapsed": true
   },
   "outputs": [],
   "source": [
    "beer_df_comb[\"beer_ids\"]=beer_df_comb[\"beer_ids\"].apply(lambda x:str(int(x)))\n",
    "beer_df_comb[\"style_ids\"]=beer_df_comb[\"style_ids\"].apply(lambda x:int(x))\n",
    "beer_df_comb[\"company_ids\"]=beer_df_comb[\"company_ids\"].apply(lambda x:int(x))"
   ]
  },
  {
   "cell_type": "code",
   "execution_count": 6,
   "metadata": {
    "collapsed": true
   },
   "outputs": [],
   "source": [
    "beer_df_comb=beer_df_comb.set_index(\"beer_ids\").join(beers.set_index(\"beer_ids\"))[[\"beer_names\",\"abvs\",\"company_ids\",\"style_ids\",\"ratings\",\"scores\",\"availabilities\",\"bro_scores\",\"reviews_nums\"]]"
   ]
  },
  {
   "cell_type": "code",
   "execution_count": 7,
   "metadata": {
    "collapsed": true
   },
   "outputs": [],
   "source": [
    "beer_df_comb=beer_df_comb.reset_index().set_index(\"style_ids\").join(styles.set_index(\"id\")[[\"style_name\",\"sub_cat\",\"cat\"]]).set_index(\"beer_ids\")"
   ]
  },
  {
   "cell_type": "code",
   "execution_count": 8,
   "metadata": {
    "collapsed": true
   },
   "outputs": [],
   "source": [
    "beer_df_comb[\"abvs\"]=beer_df_comb[\"abvs\"].apply(lambda x:float(x))\n",
    "beer_df_comb[\"ratings\"]=beer_df_comb[\"ratings\"].apply(lambda x:locale.atoi(x))\n",
    "beer_df_comb[\"reviews_nums\"]=beer_df_comb[\"reviews_nums\"].apply(lambda x:locale.atoi(x))"
   ]
  },
  {
   "cell_type": "code",
   "execution_count": 9,
   "metadata": {},
   "outputs": [
    {
     "data": {
      "text/html": [
       "<div>\n",
       "<style>\n",
       "    .dataframe thead tr:only-child th {\n",
       "        text-align: right;\n",
       "    }\n",
       "\n",
       "    .dataframe thead th {\n",
       "        text-align: left;\n",
       "    }\n",
       "\n",
       "    .dataframe tbody tr th {\n",
       "        vertical-align: top;\n",
       "    }\n",
       "</style>\n",
       "<table border=\"1\" class=\"dataframe\">\n",
       "  <thead>\n",
       "    <tr style=\"text-align: right;\">\n",
       "      <th></th>\n",
       "      <th>beer_names</th>\n",
       "      <th>abvs</th>\n",
       "      <th>company_ids</th>\n",
       "      <th>ratings</th>\n",
       "      <th>scores</th>\n",
       "      <th>availabilities</th>\n",
       "      <th>bro_scores</th>\n",
       "      <th>reviews_nums</th>\n",
       "      <th>style_name</th>\n",
       "      <th>sub_cat</th>\n",
       "      <th>cat</th>\n",
       "    </tr>\n",
       "    <tr>\n",
       "      <th>beer_ids</th>\n",
       "      <th></th>\n",
       "      <th></th>\n",
       "      <th></th>\n",
       "      <th></th>\n",
       "      <th></th>\n",
       "      <th></th>\n",
       "      <th></th>\n",
       "      <th></th>\n",
       "      <th></th>\n",
       "      <th></th>\n",
       "      <th></th>\n",
       "    </tr>\n",
       "  </thead>\n",
       "  <tbody>\n",
       "    <tr>\n",
       "      <th>1963</th>\n",
       "      <td>Spotted Cow</td>\n",
       "      <td>4.8</td>\n",
       "      <td>590</td>\n",
       "      <td>3645</td>\n",
       "      <td>3.75</td>\n",
       "      <td>Year-round</td>\n",
       "      <td>0.00</td>\n",
       "      <td>831</td>\n",
       "      <td>Cream Ale</td>\n",
       "      <td>American Ales</td>\n",
       "      <td>Ale</td>\n",
       "    </tr>\n",
       "    <tr>\n",
       "      <th>23506</th>\n",
       "      <td>Summer Solstice</td>\n",
       "      <td>5.0</td>\n",
       "      <td>193</td>\n",
       "      <td>1594</td>\n",
       "      <td>3.67</td>\n",
       "      <td>Summer</td>\n",
       "      <td>3.79</td>\n",
       "      <td>495</td>\n",
       "      <td>Cream Ale</td>\n",
       "      <td>American Ales</td>\n",
       "      <td>Ale</td>\n",
       "    </tr>\n",
       "    <tr>\n",
       "      <th>1376</th>\n",
       "      <td>Genesee Cream Ale</td>\n",
       "      <td>5.1</td>\n",
       "      <td>302</td>\n",
       "      <td>1404</td>\n",
       "      <td>3.04</td>\n",
       "      <td>Year-round</td>\n",
       "      <td>3.04</td>\n",
       "      <td>565</td>\n",
       "      <td>Cream Ale</td>\n",
       "      <td>American Ales</td>\n",
       "      <td>Ale</td>\n",
       "    </tr>\n",
       "    <tr>\n",
       "      <th>169625</th>\n",
       "      <td>Calm Before The Storm</td>\n",
       "      <td>5.5</td>\n",
       "      <td>199</td>\n",
       "      <td>1185</td>\n",
       "      <td>3.87</td>\n",
       "      <td>Rotating</td>\n",
       "      <td>0.00</td>\n",
       "      <td>274</td>\n",
       "      <td>Cream Ale</td>\n",
       "      <td>American Ales</td>\n",
       "      <td>Ale</td>\n",
       "    </tr>\n",
       "    <tr>\n",
       "      <th>727</th>\n",
       "      <td>Aecht Schlenkerla Rauchbier Märzen</td>\n",
       "      <td>5.4</td>\n",
       "      <td>263</td>\n",
       "      <td>2373</td>\n",
       "      <td>4.06</td>\n",
       "      <td>NaN</td>\n",
       "      <td>4.35</td>\n",
       "      <td>1151</td>\n",
       "      <td>Rauchbier</td>\n",
       "      <td>German Lagers</td>\n",
       "      <td>Lager</td>\n",
       "    </tr>\n",
       "  </tbody>\n",
       "</table>\n",
       "</div>"
      ],
      "text/plain": [
       "                                  beer_names  abvs  company_ids  ratings  \\\n",
       "beer_ids                                                                   \n",
       "1963                             Spotted Cow   4.8          590     3645   \n",
       "23506                        Summer Solstice   5.0          193     1594   \n",
       "1376                       Genesee Cream Ale   5.1          302     1404   \n",
       "169625                 Calm Before The Storm   5.5          199     1185   \n",
       "727       Aecht Schlenkerla Rauchbier Märzen   5.4          263     2373   \n",
       "\n",
       "          scores availabilities  bro_scores  reviews_nums style_name  \\\n",
       "beer_ids                                                               \n",
       "1963        3.75     Year-round        0.00           831  Cream Ale   \n",
       "23506       3.67         Summer        3.79           495  Cream Ale   \n",
       "1376        3.04     Year-round        3.04           565  Cream Ale   \n",
       "169625      3.87       Rotating        0.00           274  Cream Ale   \n",
       "727         4.06            NaN        4.35          1151  Rauchbier   \n",
       "\n",
       "                sub_cat    cat  \n",
       "beer_ids                        \n",
       "1963      American Ales    Ale  \n",
       "23506     American Ales    Ale  \n",
       "1376      American Ales    Ale  \n",
       "169625    American Ales    Ale  \n",
       "727       German Lagers  Lager  "
      ]
     },
     "execution_count": 9,
     "metadata": {},
     "output_type": "execute_result"
    }
   ],
   "source": [
    "beer_df_comb.head()"
   ]
  },
  {
   "cell_type": "markdown",
   "metadata": {},
   "source": [
    "### 3. Summarize by company"
   ]
  },
  {
   "cell_type": "code",
   "execution_count": 10,
   "metadata": {
    "collapsed": true
   },
   "outputs": [],
   "source": [
    "selected_companys=beer_df_comb[\"company_ids\"].unique()"
   ]
  },
  {
   "cell_type": "code",
   "execution_count": 11,
   "metadata": {
    "collapsed": true
   },
   "outputs": [],
   "source": [
    "company_df_comb=companys[companys[\"company_ids\"].isin(selected_companys)]\n",
    "company_df_comb=company_df_comb.set_index(\"company_ids\")[[\"company_names\",\"ba_levels\",\"ba_scores\",\"location1s\",\"location2s\",\"total_ratings\",\"total_reviews\"]]"
   ]
  },
  {
   "cell_type": "code",
   "execution_count": 12,
   "metadata": {
    "collapsed": true
   },
   "outputs": [],
   "source": [
    "company_df_comb[\"total_ratings\"]=company_df_comb[\"total_ratings\"].apply(lambda x:locale.atoi(x))\n",
    "company_df_comb[\"total_reviews\"]=company_df_comb[\"total_reviews\"].apply(lambda x:locale.atoi(x))"
   ]
  },
  {
   "cell_type": "code",
   "execution_count": 13,
   "metadata": {
    "collapsed": true
   },
   "outputs": [],
   "source": [
    "cnt_by_comp=beer_df_comb.groupby(\"company_ids\").agg(\"count\")[[\"beer_names\"]]\n",
    "cnt_by_comp.columns=[\"n_selected_beers\"]\n",
    "company_df_comb=company_df_comb.join(cnt_by_comp)"
   ]
  },
  {
   "cell_type": "code",
   "execution_count": 14,
   "metadata": {
    "collapsed": true
   },
   "outputs": [],
   "source": [
    "company_df_comb[\"location2s\"]=company_df_comb[\"location2s\"].apply(lambda x:str(x).strip())"
   ]
  },
  {
   "cell_type": "code",
   "execution_count": 15,
   "metadata": {
    "collapsed": true
   },
   "outputs": [],
   "source": [
    "def location_clean(x):\n",
    "    if x in [\"GB6\",\"GB2\",\"London\",\"Suffolk\",\"East Lothian\"]:\n",
    "        return \"UK\"\n",
    "    if x in ['Australia','Czech Republic','Belgium','Germany', 'Mexico', 'Netherlands',  'France','Ireland', \n",
    "             'Japan', 'Austria','Jamaica','Sri Lanka', 'Denmark', 'Singapore','Brazil', 'Switzerland','Italy']:\n",
    "        return x\n",
    "    if x in [ 'BC', 'MS', 'FL', 'KS', 'IA', 'SC', 'DC', 'VA', 'NJ', 'OK', 'LA', 'ME', 'OR', 'QC', 'IN', 'CA', 'MO','CO', 'MA','NY',\n",
    "            'DE', 'MD','OH', 'VT', 'WI', 'KY', 'ON', 'MN', 'HI', 'IL', 'WA',  'NB', 'AK', 'MT', 'NC', 'UT', 'NM','CT','PA', 'RI', \n",
    "             'GA','MI', 'NH', 'TX']:\n",
    "        return \"USA - \"+x\n",
    "    if x=='Qingdao':\n",
    "        return \"China\"\n",
    "    if x=='Tokyo-to Tokyo-shi':\n",
    "        return \"Japan\"\n",
    "    if x== 'Bangkok':\n",
    "        return \"Thailand\"\n",
    "    return \"N/A\""
   ]
  },
  {
   "cell_type": "code",
   "execution_count": 16,
   "metadata": {
    "collapsed": true
   },
   "outputs": [],
   "source": [
    "company_df_comb[\"region\"]=company_df_comb[\"location2s\"].apply(location_clean)"
   ]
  },
  {
   "cell_type": "code",
   "execution_count": 17,
   "metadata": {},
   "outputs": [
    {
     "data": {
      "text/html": [
       "<div>\n",
       "<style>\n",
       "    .dataframe thead tr:only-child th {\n",
       "        text-align: right;\n",
       "    }\n",
       "\n",
       "    .dataframe thead th {\n",
       "        text-align: left;\n",
       "    }\n",
       "\n",
       "    .dataframe tbody tr th {\n",
       "        vertical-align: top;\n",
       "    }\n",
       "</style>\n",
       "<table border=\"1\" class=\"dataframe\">\n",
       "  <thead>\n",
       "    <tr style=\"text-align: right;\">\n",
       "      <th></th>\n",
       "      <th>company_names</th>\n",
       "      <th>ba_levels</th>\n",
       "      <th>ba_scores</th>\n",
       "      <th>location1s</th>\n",
       "      <th>location2s</th>\n",
       "      <th>total_ratings</th>\n",
       "      <th>total_reviews</th>\n",
       "      <th>n_selected_beers</th>\n",
       "      <th>region</th>\n",
       "    </tr>\n",
       "    <tr>\n",
       "      <th>company_ids</th>\n",
       "      <th></th>\n",
       "      <th></th>\n",
       "      <th></th>\n",
       "      <th></th>\n",
       "      <th></th>\n",
       "      <th></th>\n",
       "      <th></th>\n",
       "      <th></th>\n",
       "      <th></th>\n",
       "    </tr>\n",
       "  </thead>\n",
       "  <tbody>\n",
       "    <tr>\n",
       "      <th>1</th>\n",
       "      <td>Plzeňský Prazdroj</td>\n",
       "      <td>Good</td>\n",
       "      <td>3.69</td>\n",
       "      <td>Plzeň</td>\n",
       "      <td>Czech Republic</td>\n",
       "      <td>4338</td>\n",
       "      <td>1644</td>\n",
       "      <td>1</td>\n",
       "      <td>Czech Republic</td>\n",
       "    </tr>\n",
       "    <tr>\n",
       "      <th>3</th>\n",
       "      <td>Abita Brewing Co.</td>\n",
       "      <td>Good</td>\n",
       "      <td>3.66</td>\n",
       "      <td>Abita Springs</td>\n",
       "      <td>LA</td>\n",
       "      <td>21876</td>\n",
       "      <td>6476</td>\n",
       "      <td>7</td>\n",
       "      <td>USA - LA</td>\n",
       "    </tr>\n",
       "    <tr>\n",
       "      <th>4</th>\n",
       "      <td>Allagash Brewing Company</td>\n",
       "      <td>Exceptional</td>\n",
       "      <td>4.12</td>\n",
       "      <td>Portland</td>\n",
       "      <td>ME</td>\n",
       "      <td>36512</td>\n",
       "      <td>9743</td>\n",
       "      <td>8</td>\n",
       "      <td>USA - ME</td>\n",
       "    </tr>\n",
       "    <tr>\n",
       "      <th>8</th>\n",
       "      <td>Widmer Brothers Brewing Company</td>\n",
       "      <td>Good</td>\n",
       "      <td>3.61</td>\n",
       "      <td>Portland</td>\n",
       "      <td>OR</td>\n",
       "      <td>14128</td>\n",
       "      <td>4483</td>\n",
       "      <td>1</td>\n",
       "      <td>USA - OR</td>\n",
       "    </tr>\n",
       "    <tr>\n",
       "      <th>22</th>\n",
       "      <td>Unibroue</td>\n",
       "      <td>Good</td>\n",
       "      <td>3.74</td>\n",
       "      <td>Chambly</td>\n",
       "      <td>QC</td>\n",
       "      <td>36019</td>\n",
       "      <td>14546</td>\n",
       "      <td>8</td>\n",
       "      <td>USA - QC</td>\n",
       "    </tr>\n",
       "  </tbody>\n",
       "</table>\n",
       "</div>"
      ],
      "text/plain": [
       "                               company_names    ba_levels  ba_scores  \\\n",
       "company_ids                                                            \n",
       "1                          Plzeňský Prazdroj         Good       3.69   \n",
       "3                          Abita Brewing Co.         Good       3.66   \n",
       "4                   Allagash Brewing Company  Exceptional       4.12   \n",
       "8            Widmer Brothers Brewing Company         Good       3.61   \n",
       "22                                  Unibroue         Good       3.74   \n",
       "\n",
       "                 location1s      location2s  total_ratings  total_reviews  \\\n",
       "company_ids                                                                 \n",
       "1                     Plzeň  Czech Republic           4338           1644   \n",
       "3             Abita Springs              LA          21876           6476   \n",
       "4                  Portland              ME          36512           9743   \n",
       "8                  Portland              OR          14128           4483   \n",
       "22                  Chambly              QC          36019          14546   \n",
       "\n",
       "             n_selected_beers          region  \n",
       "company_ids                                    \n",
       "1                           1  Czech Republic  \n",
       "3                           7        USA - LA  \n",
       "4                           8        USA - ME  \n",
       "8                           1        USA - OR  \n",
       "22                          8        USA - QC  "
      ]
     },
     "execution_count": 17,
     "metadata": {},
     "output_type": "execute_result"
    }
   ],
   "source": [
    "company_df_comb.head()"
   ]
  },
  {
   "cell_type": "markdown",
   "metadata": {},
   "source": [
    "### 4. Exploratory Data Analysis"
   ]
  },
  {
   "cell_type": "code",
   "execution_count": 330,
   "metadata": {
    "collapsed": true
   },
   "outputs": [],
   "source": [
    "top_styles=beer_df_comb.groupby(\"style_name\").agg(\"count\").sort_values(by=\"beer_names\",ascending=False).head(15)[[\"beer_names\"]]\n",
    "top_styles=top_styles.join(styles.set_index(\"style_name\")[\"sub_cat\"]).reset_index()"
   ]
  },
  {
   "cell_type": "code",
   "execution_count": 331,
   "metadata": {
    "collapsed": true
   },
   "outputs": [],
   "source": [
    "availables=beer_df_comb.groupby(\"availabilities\").agg(\"count\").sort_values(by=\"beer_names\",ascending=False)[\"beer_names\"].reset_index()"
   ]
  },
  {
   "cell_type": "code",
   "execution_count": 332,
   "metadata": {
    "collapsed": true
   },
   "outputs": [],
   "source": [
    "top_regions=company_df_comb.groupby(\"region\").agg(\"sum\").sort_values(by=\"n_selected_beers\",ascending=False).head(10)[\"n_selected_beers\"].reset_index()"
   ]
  },
  {
   "cell_type": "code",
   "execution_count": 291,
   "metadata": {},
   "outputs": [
    {
     "data": {
      "text/plain": [
       "ba_levels\n",
       "Exceptional     52\n",
       "Good            67\n",
       "Okay            27\n",
       "Outstanding      7\n",
       "Poor            28\n",
       "Very Good      134\n",
       "Name: company_names, dtype: int64"
      ]
     },
     "execution_count": 291,
     "metadata": {},
     "output_type": "execute_result"
    }
   ],
   "source": [
    "company_df_comb.groupby(\"ba_levels\").agg(\"count\")[\"company_names\"]"
   ]
  },
  {
   "cell_type": "markdown",
   "metadata": {},
   "source": [
    "### 5. Plotting with Bokeh"
   ]
  },
  {
   "cell_type": "code",
   "execution_count": 315,
   "metadata": {
    "collapsed": true
   },
   "outputs": [],
   "source": [
    "from bokeh.layouts import gridplot\n",
    "from bokeh.plotting import figure, show, output_file\n",
    "from bokeh.models import ColumnDataSource"
   ]
  },
  {
   "cell_type": "code",
   "execution_count": 313,
   "metadata": {
    "collapsed": true
   },
   "outputs": [],
   "source": [
    "p1 = figure(title=\"Histogram of # of Ratings Received\",tools=\"save\",\n",
    "            background_fill_color=\"#E8DDCB\")\n",
    "\n",
    "hist, edges = np.histogram(beer_df_comb[\"ratings\"], density=False, bins=16)\n",
    "\n",
    "p1.quad(top=hist, bottom=0, left=edges[:-1], right=edges[1:],\n",
    "        fill_color=\"#036564\", line_color=\"#033649\")\n",
    "\n",
    "p1.legend.location = \"center_right\"\n",
    "p1.legend.background_fill_color = \"darkgrey\"\n",
    "p1.xaxis.axis_label = 'Ratings Received'\n",
    "p1.yaxis.axis_label = '# of Beers'\n",
    "\n",
    "html = file_html(p1, CDN, \"my plot\")\n",
    "\n",
    "#output_file('num_ratings_hist.html', title=\"histogram.py example\")\n",
    "#show(p1)"
   ]
  },
  {
   "cell_type": "code",
   "execution_count": 310,
   "metadata": {
    "collapsed": true
   },
   "outputs": [],
   "source": [
    "p2 = figure(title=\"Histogram of BA scores\",tools=\"save\",\n",
    "            background_fill_color=\"#E8DDCB\")\n",
    "\n",
    "hist, edges = np.histogram(beer_df_comb[\"scores\"], density=False, bins=16)\n",
    "\n",
    "p2.quad(top=hist, bottom=0, left=edges[:-1], right=edges[1:],\n",
    "        fill_color=\"#036564\", line_color=\"#033649\")\n",
    "\n",
    "p2.legend.location = \"center_right\"\n",
    "p2.legend.background_fill_color = \"darkgrey\"\n",
    "p2.xaxis.axis_label = 'Scores'\n",
    "p2.yaxis.axis_label = '# of Beers'\n",
    "\n",
    "#output_file('scores_hist.html', title=\"histogram.py example\")\n",
    "#show(p2)"
   ]
  },
  {
   "cell_type": "code",
   "execution_count": 311,
   "metadata": {
    "collapsed": true
   },
   "outputs": [],
   "source": [
    "p3 = figure(title=\"Histogram of Alcohol Volume %\",tools=\"save\",\n",
    "            background_fill_color=\"#E8DDCB\")\n",
    "\n",
    "hist, edges = np.histogram(beer_df_comb[\"abvs\"], density=False, bins=16)\n",
    "\n",
    "p3.quad(top=hist, bottom=0, left=edges[:-1], right=edges[1:],\n",
    "        fill_color=\"#036564\", line_color=\"#033649\")\n",
    "\n",
    "p3.legend.location = \"center_right\"\n",
    "p3.legend.background_fill_color = \"darkgrey\"\n",
    "p3.xaxis.axis_label = 'Alc %'\n",
    "p3.yaxis.axis_label = '# of Beers'\n",
    "\n",
    "#output_file('abv_hist.html', title=\"histogram.py example\")\n",
    "#show(p3)"
   ]
  },
  {
   "cell_type": "code",
   "execution_count": 342,
   "metadata": {
    "collapsed": true
   },
   "outputs": [],
   "source": [
    "output_file(\"bar_colormapped.html\")\n",
    "\n",
    "regions = top_regions[\"region\"].tolist()\n",
    "counts = top_regions[\"n_selected_beers\"].tolist()\n",
    "\n",
    "source = ColumnDataSource(data=dict(regions=regions, counts=counts))\n",
    "\n",
    "p4 = figure(x_range=regions, plot_height=350, toolbar_location=None, title=\"Beer Counts\")\n",
    "p4.vbar(x='regions', top='counts', width=0.9, source=source, legend=\"regions\",\n",
    "       line_color='white', fill_color=\"#036564\")\n",
    "\n",
    "p4.xgrid.grid_line_color = None\n",
    "p4.y_range.start = 0\n",
    "p4.y_range.end = max(counts)\n",
    "p4.legend.orientation = \"horizontal\"\n",
    "p4.legend.location = \"top_center\"\n",
    "\n",
    "#output_file('top_region.html', title=\"histogram.py example\")\n",
    "#show(p4)"
   ]
  }
 ],
 "metadata": {
  "kernelspec": {
   "display_name": "Python 3",
   "language": "python",
   "name": "python3"
  },
  "language_info": {
   "codemirror_mode": {
    "name": "ipython",
    "version": 3
   },
   "file_extension": ".py",
   "mimetype": "text/x-python",
   "name": "python",
   "nbconvert_exporter": "python",
   "pygments_lexer": "ipython3",
   "version": "3.6.1"
  }
 },
 "nbformat": 4,
 "nbformat_minor": 2
}
