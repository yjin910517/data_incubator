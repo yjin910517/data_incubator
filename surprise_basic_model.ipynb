{
 "cells": [
  {
   "cell_type": "code",
   "execution_count": 115,
   "metadata": {
    "collapsed": true
   },
   "outputs": [],
   "source": [
    "from surprise import SVD\n",
    "from surprise import Dataset\n",
    "from surprise import Reader\n",
    "from surprise.model_selection import cross_validate\n",
    "from surprise.model_selection import KFold\n",
    "from surprise import accuracy\n",
    "\n",
    "import pandas as pd\n",
    "import os\n",
    "import numpy as np"
   ]
  },
  {
   "cell_type": "code",
   "execution_count": 53,
   "metadata": {
    "collapsed": true
   },
   "outputs": [],
   "source": [
    "# Get uid with >100 ratings\n",
    "folder = \"C:\\\\Users\\\\yjin9\\\\Documents\\\\python-scripts\\\\data_incubator\\\\data_scraping_cleaning\\\\top_rated\\\\\" \n",
    "user_file_path =os.path.join(folder,\"uid_count.csv\")\n",
    "user_df=pd.read_csv(user_file_path,encoding=\"utf-8\")\n",
    "uid_list=user_df[user_df.uid_count>100][\"uid\"].apply(lambda x:str(x))"
   ]
  },
  {
   "cell_type": "code",
   "execution_count": 82,
   "metadata": {
    "collapsed": true
   },
   "outputs": [],
   "source": [
    "# Get combined score dataframe \n",
    "summary_file_path =os.path.join(folder,\"beer_summary.csv\")\n",
    "beer_ids=pd.read_csv(summary_file_path,encoding=\"utf-8\")[\"beer_ids\"].tolist()\n",
    "\n",
    "try:\n",
    "    score_df=pd.read_csv(os.path.join(folder,\"combined_ba_score.csv\"),encoding=\"utf-8\")[[\"user_id\",\"item\",\"ba_score\"]]\n",
    "\n",
    "except FileNotFoundError:\n",
    "    score_df=pd.DataFrame({\"user_id\":[],\"ba_score\":[],\"item\":[]})\n",
    "\n",
    "    for beer_idx in range(len(beer_ids)):\n",
    "        file_path =os.path.join(folder,\"beer_\"+str(beer_ids[beer_idx])+\".csv\")\n",
    "        beer_ratings=pd.read_csv(file_path,encoding=\"utf-8\")\n",
    "        beer_ratings=beer_ratings[~np.isnan(beer_ratings.user_id)][[\"user_id\",\"ba_score\"]]\n",
    "        beer_ratings.user_id=beer_ratings.user_id.apply(lambda x: str(int(x)))\n",
    "        beer_ratings=beer_ratings[beer_ratings.user_id.isin(uid_list)]\n",
    "        beer_ratings[\"item\"]=str(beer_ids[beer_idx])\n",
    "        score_df=score_df.append(beer_ratings)\n",
    "    score_df.to_csv(os.path.join(folder,\"combined_ba_score.csv\"),encoding=\"utf-8\")"
   ]
  },
  {
   "cell_type": "code",
   "execution_count": 107,
   "metadata": {},
   "outputs": [
    {
     "data": {
      "text/plain": [
       "8999"
      ]
     },
     "execution_count": 107,
     "metadata": {},
     "output_type": "execute_result"
    }
   ],
   "source": [
    "# Total # of users\n",
    "len(uid_list)"
   ]
  },
  {
   "cell_type": "code",
   "execution_count": 92,
   "metadata": {},
   "outputs": [
    {
     "data": {
      "text/plain": [
       "(2221464, 3)"
      ]
     },
     "execution_count": 92,
     "metadata": {},
     "output_type": "execute_result"
    }
   ],
   "source": [
    "# Total # of ratings\n",
    "score_df.shape"
   ]
  },
  {
   "cell_type": "code",
   "execution_count": 113,
   "metadata": {},
   "outputs": [
    {
     "data": {
      "text/plain": [
       "1337"
      ]
     },
     "execution_count": 113,
     "metadata": {},
     "output_type": "execute_result"
    }
   ],
   "source": [
    "# Total # of beer items\n",
    "len(beer_ids)"
   ]
  },
  {
   "cell_type": "code",
   "execution_count": 87,
   "metadata": {},
   "outputs": [
    {
     "name": "stdout",
     "output_type": "stream",
     "text": [
      "Evaluating RMSE, MAE of algorithm SVD on 5 split(s).\n",
      "\n",
      "                  Fold 1  Fold 2  Fold 3  Fold 4  Fold 5  Mean    Std     \n",
      "RMSE (testset)    0.3713  0.3713  0.3715  0.3713  0.3710  0.3713  0.0001  \n",
      "MAE (testset)     0.2658  0.2664  0.2668  0.2665  0.2665  0.2664  0.0003  \n",
      "Fit time          115.71  119.29  119.42  115.83  113.43  116.74  2.30    \n",
      "Test time         6.72    5.40    5.77    5.02    5.69    5.72    0.56    \n"
     ]
    },
    {
     "data": {
      "text/plain": [
       "{'fit_time': (115.7073724269867,\n",
       "  119.29231429100037,\n",
       "  119.42065668106079,\n",
       "  115.82809925079346,\n",
       "  113.42971754074097),\n",
       " 'test_mae': array([ 0.26583956,  0.26635213,  0.26676392,  0.26648657,  0.26653371]),\n",
       " 'test_rmse': array([ 0.37130505,  0.37129908,  0.3714541 ,  0.37127379,  0.37103955]),\n",
       " 'test_time': (6.715921401977539,\n",
       "  5.399384021759033,\n",
       "  5.767340898513794,\n",
       "  5.015340328216553,\n",
       "  5.687127351760864)}"
      ]
     },
     "execution_count": 87,
     "metadata": {},
     "output_type": "execute_result"
    }
   ],
   "source": [
    "reader = Reader(rating_scale=(1.0, 5.0))\n",
    "data = Dataset.load_from_df(score_df[['user_id', 'item', 'ba_score']], reader)\n",
    "algo = SVD()\n",
    "cross_validate(algo, data, measures=['RMSE', 'MAE'], cv=5, verbose=True)"
   ]
  },
  {
   "cell_type": "code",
   "execution_count": 118,
   "metadata": {},
   "outputs": [
    {
     "name": "stdout",
     "output_type": "stream",
     "text": [
      "RMSE: 0.3743\n",
      "RMSE: 0.3733\n",
      "RMSE: 0.3733\n"
     ]
    }
   ],
   "source": [
    "algo = SVD()\n",
    "kf = KFold(n_splits=3)\n",
    "\n",
    "for trainset, testset in kf.split(data):\n",
    "    algo.fit(trainset)\n",
    "    predictions = algo.test(testset)\n",
    "    accuracy.rmse(predictions, verbose=True)"
   ]
  }
 ],
 "metadata": {
  "kernelspec": {
   "display_name": "Python 3",
   "language": "python",
   "name": "python3"
  },
  "language_info": {
   "codemirror_mode": {
    "name": "ipython",
    "version": 3
   },
   "file_extension": ".py",
   "mimetype": "text/x-python",
   "name": "python",
   "nbconvert_exporter": "python",
   "pygments_lexer": "ipython3",
   "version": "3.6.1"
  }
 },
 "nbformat": 4,
 "nbformat_minor": 2
}
