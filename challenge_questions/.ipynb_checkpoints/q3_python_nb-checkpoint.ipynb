{
 "cells": [
  {
   "cell_type": "markdown",
   "metadata": {},
   "source": [
    "### Submitted Version"
   ]
  },
  {
   "cell_type": "code",
   "execution_count": 43,
   "metadata": {
    "collapsed": true
   },
   "outputs": [],
   "source": [
    "import numpy as np\n",
    "\n",
    "# define precision to ensure at least 10 digit precision\n",
    "np.set_printoptions(precision=11)\n",
    "tol=-0.000000001\n",
    "\n",
    "\n",
    "def D(m,n):\n",
    "    '''\n",
    "    args:\n",
    "        m,n: dimension of grid\n",
    "    return:\n",
    "        arr: (m+1)*(n+1) array, arr[i,j] is the deviation D of point (i,j), i.e, arr[i,j]=D(p,q)\n",
    "    '''\n",
    "    arr = np.zeros((m+1,n+1),dtype=np.float64)\n",
    "    for i in range(m+1):\n",
    "            for j in range(n+1):\n",
    "                    arr[i,j]=abs(i/m-j/n)\n",
    "    return arr\n",
    "\n",
    "def get_map2(m,n,dis):\n",
    "    '''\n",
    "    args:\n",
    "        m,n: dimension of grid\n",
    "        dis: an arbitrary value of deviation\n",
    "        \n",
    "    return:\n",
    "        maps: (m+1)*(n+1) array with value 0 or 1, all the points with Deviation D smaller or equal to dis are labeled as 1\n",
    "    \n",
    "    usage:\n",
    "        If we want to find paths with deviation smaller or equal to dis, the path must only go through points labeled as 1\n",
    "    '''\n",
    "    maps=np.zeros((m+1,n+1))\n",
    "    for i in range(m+1):\n",
    "        for j in range(n+1):\n",
    "            maps[i,j]=(dis-abs(i/m-j/n)>tol)\n",
    "    return maps\n",
    "\n",
    "def path2(maps):\n",
    "    '''\n",
    "    args:\n",
    "        maps: (m+1)*(n+1) array with value 0 or 1, a returned matrix from function get_map2\n",
    "    return:\n",
    "        res: float number, a probability between 0 and 1, the probability of a possible path in the grid is in the given maps\n",
    "    '''\n",
    "    \n",
    "    (m,n)=np.shape(maps)\n",
    "    m-=1\n",
    "    n-=1\n",
    "    ref=np.zeros((m+1,n+1))-1\n",
    "\n",
    "    def get_ref(maps,i,j):\n",
    "        '''\n",
    "        A function to implement dynamic programming algorithm\n",
    "        '''\n",
    "        if ref[i,j]>-1:\n",
    "            return ref[i,j]\n",
    "\n",
    "        if maps[i,j]==0:\n",
    "            ref[i,j]=0\n",
    "            return ref[i,j]\n",
    "        \n",
    "        if i==0 and j==0:\n",
    "            ref[i,j]=1\n",
    "            return ref[i,j]\n",
    "        \n",
    "        elif i==0:\n",
    "            ref[i,j]=get_ref(maps,i,j-1)*0.5\n",
    "\n",
    "        \n",
    "        elif j==0:\n",
    "            ref[i,j]=get_ref(maps,i-1,j)*0.5            \n",
    "        \n",
    "        else:\n",
    "            ref[i,j]=get_ref(maps,i-1,j)*0.5+get_ref(maps,i,j-1)*0.5\n",
    "            if i==m:\n",
    "                ref[i,j]+=get_ref(maps,i,j-1)*0.5\n",
    "            if j==n:\n",
    "                ref[i,j]+=get_ref(maps,i-1,j)*0.5\n",
    "        return ref[i,j]\n",
    "\n",
    "    res=get_ref(maps,m,n)\n",
    "    return res\n",
    "\n",
    "def get_result(m,n):\n",
    "    '''\n",
    "    Define a function to print desired results\n",
    "    '''\n",
    "    uniq_D=np.array(sorted(list(set(np.reshape(D(m,n),(m+1)*(n+1))))))\n",
    "    \n",
    "    accum_prob=[]\n",
    "    for d in uniq_D:\n",
    "        maps=get_map2(m,n,d)\n",
    "        prob=path2(maps)\n",
    "        accum_prob.append(prob)\n",
    "        \n",
    "    probs=np.array(accum_prob)-np.array([0.0]+accum_prob[:-1])\n",
    "    \n",
    "    mean_D=np.sum(probs*uniq_D)\n",
    "    sd_D=np.sum(probs*(uniq_D-mean_D)**2)**0.5\n",
    "    conditional_prob=np.sum(probs*(uniq_D>0.6))/np.sum(probs*(uniq_D>0.2))\n",
    "    \n",
    "    print(\"Mean: {}\".format(mean_D))\n",
    "    print(\"Standard deviation: {}\".format(sd_D))\n",
    "    print(\"Conditional Probability: {}\".format(conditional_prob))\n",
    "    \n",
    "    return (mean_D, sd_D, conditional_prob)\n",
    "    \n",
    "    "
   ]
  },
  {
   "cell_type": "code",
   "execution_count": 44,
   "metadata": {},
   "outputs": [
    {
     "name": "stdout",
     "output_type": "stream",
     "text": [
      "Mean: 0.5188941460151176\n",
      "Standard deviation: 0.1817855196893432\n",
      "Conditional Probability: 0.3283139965440632\n"
     ]
    },
    {
     "data": {
      "text/plain": [
       "(0.51889414601511763, 0.1817855196893432, 0.32831399654406318)"
      ]
     },
     "execution_count": 44,
     "metadata": {},
     "output_type": "execute_result"
    }
   ],
   "source": [
    "m=11\n",
    "n=7\n",
    "get_result(m,n)"
   ]
  },
  {
   "cell_type": "code",
   "execution_count": 46,
   "metadata": {},
   "outputs": [
    {
     "name": "stdout",
     "output_type": "stream",
     "text": [
      "Mean: 0.3532883806846021\n",
      "Standard deviation: 0.13694097230435626\n",
      "Conditional Probability: 0.06312623037176399\n"
     ]
    },
    {
     "data": {
      "text/plain": [
       "(0.35328838068460211, 0.13694097230435626, 0.063126230371763986)"
      ]
     },
     "execution_count": 46,
     "metadata": {},
     "output_type": "execute_result"
    }
   ],
   "source": [
    "m=23\n",
    "n=31\n",
    "get_result(m,n)"
   ]
  },
  {
   "cell_type": "markdown",
   "metadata": {},
   "source": [
    "### Original version"
   ]
  },
  {
   "cell_type": "code",
   "execution_count": 2,
   "metadata": {
    "collapsed": true
   },
   "outputs": [],
   "source": [
    "import numpy as np\n",
    "\n",
    "# define precision to ensure at least 10 digit precision\n",
    "np.set_printoptions(precision=11)\n",
    "tol=-0.000000001\n",
    "\n",
    "\n",
    "def D(m,n):\n",
    "    '''\n",
    "    args:\n",
    "        m,n: dimension of grid\n",
    "    return:\n",
    "        arr: (m+1)*(n+1) array, arr[i,j] is the deviation D of point (i,j), i.e, arr[i,j]=D(p,q)\n",
    "    '''\n",
    "    arr = np.zeros((m+1,n+1),dtype=np.float64)\n",
    "    for i in range(m+1):\n",
    "            for j in range(n+1):\n",
    "                    arr[i,j]=abs(i/m-j/n)\n",
    "    return arr\n",
    "\n",
    "def get_map(m,n,p,q):\n",
    "    '''\n",
    "    args:\n",
    "        m,n: dimension of grid\n",
    "        p,q: a specific point (p,q) in the grid\n",
    "        \n",
    "    return:\n",
    "        maps: (m+1)*(n+1) array with value 0 or 1, all the points with Deviation D smaller or equal to the D(p,q) are labeled as 1\n",
    "        \n",
    "    If we want to find paths with deviation smaller or equal to D(p,q), the path must go through only points labeled as 1\n",
    "    '''\n",
    "    dis=abs(p/m-q/n)\n",
    "    maps=np.zeros((m+1,n+1))\n",
    "    for i in range(m+1):\n",
    "        for j in range(n+1):\n",
    "            maps[i,j]=(dis-abs(i/m-j/n)>tol)\n",
    "    return maps\n",
    "\n",
    "def path(maps,p,q):\n",
    "    '''\n",
    "    args:\n",
    "        maps: (m+1)*(n+1) array with value 0 or 1\n",
    "        p,q: a specific point (p,q) in the grid\n",
    "    return:\n",
    "        float number, a probability between 0 and 1, the probability of a path in the grid \n",
    "        that is in the given maps and goes through point (p,q)\n",
    "    '''\n",
    "    (m,n)=np.shape(maps)\n",
    "    m-=1\n",
    "    n-=1\n",
    "    ref=np.zeros((m+1,n+1))-1\n",
    "\n",
    "    def get_ref(maps,i,j,a=0,b=0):\n",
    "        '''\n",
    "        Dynamic programming algorithm to calculate the probability of a path passing through point (i,j), given point(a,b) as starting point\n",
    "        '''\n",
    "        if ref[i,j]>-1:\n",
    "            return ref[i,j]\n",
    "\n",
    "        if maps[i,j]==0:\n",
    "            ref[i,j]=0\n",
    "            return ref[i,j]\n",
    "        \n",
    "        if i==0 and j==0:\n",
    "            ref[i,j]=1\n",
    "            return ref[i,j]\n",
    "        \n",
    "        if i==a and j==b:\n",
    "            return ref[i,j]\n",
    "        \n",
    "        elif a==m:\n",
    "            ref[i,j]=get_ref(maps,i,j-1,a,b)\n",
    "\n",
    "        \n",
    "        elif b==n:\n",
    "            ref[i,j]=get_ref(maps,i-1,j,a,b)\n",
    "                \n",
    "        elif i==a:\n",
    "            ref[i,j]=get_ref(maps,i,j-1,a,b)\n",
    "            if i<m:\n",
    "                ref[i,j]/=2\n",
    "        \n",
    "        elif j==b:\n",
    "            ref[i,j]=get_ref(maps,i-1,j,a,b)\n",
    "            if j<n:\n",
    "                ref[i,j]/=2                \n",
    "        \n",
    "        else:\n",
    "            ref[i,j]=get_ref(maps,i-1,j,a,b)/2+get_ref(maps,i,j-1,a,b)/2\n",
    "            if i==m:\n",
    "                ref[i,j]+=get_ref(maps,i,j-1,a,b)/2\n",
    "            if j==n:\n",
    "                ref[i,j]+=get_ref(maps,i-1,j,a,b)/2\n",
    "        return ref[i,j]\n",
    "\n",
    "    get_ref(maps,p,q,0,0)\n",
    "    res=get_ref(maps,m,n,p,q)\n",
    "    \n",
    "    # Deduct double counted probability for paths crossing two points with same D \n",
    "    if p<(m/2) and q<(n/2):\n",
    "        ref=np.zeros((m+1,n+1))-1\n",
    "        get_ref(maps,p,q,0,0)\n",
    "        get_ref(maps,m-p,n-q,p,q)\n",
    "        minus=get_ref(maps,m,n,m-p,n-q)\n",
    "        res-=minus\n",
    "    return res\n",
    "            \n",
    "    \n",
    "    "
   ]
  },
  {
   "cell_type": "code",
   "execution_count": 47,
   "metadata": {
    "collapsed": true
   },
   "outputs": [],
   "source": [
    "m=23\n",
    "n=31\n",
    "prob=np.zeros((m+1,n+1))\n",
    "for p in range(m+1):\n",
    "    for q in range(n+1):\n",
    "        maps=get_map(m,n,p,q)\n",
    "        prob[p,q]=path(maps,p,q)\n"
   ]
  },
  {
   "cell_type": "code",
   "execution_count": 48,
   "metadata": {},
   "outputs": [
    {
     "data": {
      "text/plain": [
       "0.35328838068460217"
      ]
     },
     "execution_count": 48,
     "metadata": {},
     "output_type": "execute_result"
    }
   ],
   "source": [
    "# mean of D\n",
    "mean_D=np.sum(D(m,n)*prob)\n",
    "mean_D\n"
   ]
  },
  {
   "cell_type": "code",
   "execution_count": 49,
   "metadata": {},
   "outputs": [
    {
     "data": {
      "text/plain": [
       "0.13694097230435626"
      ]
     },
     "execution_count": 49,
     "metadata": {},
     "output_type": "execute_result"
    }
   ],
   "source": [
    "# standard diviation of D\n",
    "variance=np.sum(((D(m,n)-mean_D)**2)*prob)\n",
    "variance**0.5"
   ]
  },
  {
   "cell_type": "code",
   "execution_count": 50,
   "metadata": {},
   "outputs": [
    {
     "data": {
      "text/plain": [
       "0.063126230371763986"
      ]
     },
     "execution_count": 50,
     "metadata": {},
     "output_type": "execute_result"
    }
   ],
   "source": [
    "# conditional probability\n",
    "Pr06=np.sum(prob*(D(m,n)>0.6))\n",
    "Pr02=np.sum(prob*(D(m,n)>0.2))\n",
    "Pr06/Pr02"
   ]
  },
  {
   "cell_type": "code",
   "execution_count": null,
   "metadata": {
    "collapsed": true
   },
   "outputs": [],
   "source": []
  }
 ],
 "metadata": {
  "kernelspec": {
   "display_name": "Python 3",
   "language": "python",
   "name": "python3"
  },
  "language_info": {
   "codemirror_mode": {
    "name": "ipython",
    "version": 3
   },
   "file_extension": ".py",
   "mimetype": "text/x-python",
   "name": "python",
   "nbconvert_exporter": "python",
   "pygments_lexer": "ipython3",
   "version": "3.6.1"
  }
 },
 "nbformat": 4,
 "nbformat_minor": 2
}
